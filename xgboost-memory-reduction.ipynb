{
 "cells": [
  {
   "cell_type": "code",
   "execution_count": 1,
   "id": "acf8f5d1",
   "metadata": {
    "_cell_guid": "b1076dfc-b9ad-4769-8c92-a6c4dae69d19",
    "_uuid": "8f2839f25d086af736a60e9eeb907d3b93b6e0e5",
    "execution": {
     "iopub.execute_input": "2021-10-10T07:04:43.219459Z",
     "iopub.status.busy": "2021-10-10T07:04:43.218628Z",
     "iopub.status.idle": "2021-10-10T07:04:44.838990Z",
     "shell.execute_reply": "2021-10-10T07:04:44.839811Z",
     "shell.execute_reply.started": "2021-10-10T06:44:37.710064Z"
    },
    "papermill": {
     "duration": 1.715202,
     "end_time": "2021-10-10T07:04:44.840216",
     "exception": false,
     "start_time": "2021-10-10T07:04:43.125014",
     "status": "completed"
    },
    "tags": []
   },
   "outputs": [
    {
     "data": {
      "text/html": [
       "<style type='text/css'>\n",
       ".datatable table.frame { margin-bottom: 0; }\n",
       ".datatable table.frame thead { border-bottom: none; }\n",
       ".datatable table.frame tr.coltypes td {  color: #FFFFFF;  line-height: 6px;  padding: 0 0.5em;}\n",
       ".datatable .bool    { background: #DDDD99; }\n",
       ".datatable .object  { background: #565656; }\n",
       ".datatable .int     { background: #5D9E5D; }\n",
       ".datatable .float   { background: #4040CC; }\n",
       ".datatable .str     { background: #CC4040; }\n",
       ".datatable .time    { background: #40CC40; }\n",
       ".datatable .row_index {  background: var(--jp-border-color3);  border-right: 1px solid var(--jp-border-color0);  color: var(--jp-ui-font-color3);  font-size: 9px;}\n",
       ".datatable .frame tbody td { text-align: left; }\n",
       ".datatable .frame tr.coltypes .row_index {  background: var(--jp-border-color0);}\n",
       ".datatable th:nth-child(2) { padding-left: 12px; }\n",
       ".datatable .hellipsis {  color: var(--jp-cell-editor-border-color);}\n",
       ".datatable .vellipsis {  background: var(--jp-layout-color0);  color: var(--jp-cell-editor-border-color);}\n",
       ".datatable .na {  color: var(--jp-cell-editor-border-color);  font-size: 80%;}\n",
       ".datatable .sp {  opacity: 0.25;}\n",
       ".datatable .footer { font-size: 9px; }\n",
       ".datatable .frame_dimensions {  background: var(--jp-border-color3);  border-top: 1px solid var(--jp-border-color0);  color: var(--jp-ui-font-color3);  display: inline-block;  opacity: 0.6;  padding: 1px 10px 1px 5px;}\n",
       "</style>\n"
      ],
      "text/plain": [
       "<IPython.core.display.HTML object>"
      ]
     },
     "metadata": {},
     "output_type": "display_data"
    }
   ],
   "source": [
    "import pandas as pd\n",
    "import numpy as np\n",
    "import datatable as dt\n",
    "from xgboost import XGBClassifier\n",
    "from sklearn.model_selection import train_test_split\n",
    "from sklearn.model_selection import StratifiedKFold\n",
    "from sklearn.metrics import roc_curve, auc\n",
    "import optuna"
   ]
  },
  {
   "cell_type": "markdown",
   "id": "0a3cf694",
   "metadata": {
    "papermill": {
     "duration": 0.01686,
     "end_time": "2021-10-10T07:04:44.877226",
     "exception": false,
     "start_time": "2021-10-10T07:04:44.860366",
     "status": "completed"
    },
    "tags": []
   },
   "source": [
    "# Memory Reduction"
   ]
  },
  {
   "cell_type": "code",
   "execution_count": 2,
   "id": "2761cf34",
   "metadata": {
    "execution": {
     "iopub.execute_input": "2021-10-10T07:04:44.916999Z",
     "iopub.status.busy": "2021-10-10T07:04:44.916123Z",
     "iopub.status.idle": "2021-10-10T07:04:44.928799Z",
     "shell.execute_reply": "2021-10-10T07:04:44.929321Z",
     "shell.execute_reply.started": "2021-10-10T06:44:39.669269Z"
    },
    "papermill": {
     "duration": 0.036003,
     "end_time": "2021-10-10T07:04:44.929467",
     "exception": false,
     "start_time": "2021-10-10T07:04:44.893464",
     "status": "completed"
    },
    "tags": []
   },
   "outputs": [],
   "source": [
    "def reduce_memory_usage(df, verbose=True):\n",
    "    numerics = [\"int8\", \"int16\", \"int32\", \"int64\", \"float16\", \"float32\", \"float64\"]\n",
    "    start_mem = df.memory_usage().sum() / 1024 ** 2\n",
    "    for col in df.columns:\n",
    "        col_type = df[col].dtypes\n",
    "        if col_type in numerics:\n",
    "            c_min = df[col].min()\n",
    "            c_max = df[col].max()\n",
    "            if str(col_type)[:3] == \"int\":\n",
    "                if c_min > np.iinfo(np.int8).min and c_max < np.iinfo(np.int8).max:\n",
    "                    df[col] = df[col].astype(np.int8)\n",
    "                elif c_min > np.iinfo(np.int16).min and c_max < np.iinfo(np.int16).max:\n",
    "                    df[col] = df[col].astype(np.int16)\n",
    "                elif c_min > np.iinfo(np.int32).min and c_max < np.iinfo(np.int32).max:\n",
    "                    df[col] = df[col].astype(np.int32)\n",
    "                elif c_min > np.iinfo(np.int64).min and c_max < np.iinfo(np.int64).max:\n",
    "                    df[col] = df[col].astype(np.int64)\n",
    "            else:\n",
    "                if (\n",
    "                    c_min > np.finfo(np.float16).min\n",
    "                    and c_max < np.finfo(np.float16).max\n",
    "                ):\n",
    "                    df[col] = df[col].astype(np.float16)\n",
    "                elif (\n",
    "                    c_min > np.finfo(np.float32).min\n",
    "                    and c_max < np.finfo(np.float32).max\n",
    "                ):\n",
    "                    df[col] = df[col].astype(np.float32)\n",
    "                else:\n",
    "                    df[col] = df[col].astype(np.float64)\n",
    "    end_mem = df.memory_usage().sum() / 1024 ** 2\n",
    "    if verbose:\n",
    "        print(\n",
    "            \"Mem. usage decreased to {:.2f} Mb ({:.1f}% reduction)\".format(\n",
    "                end_mem, 100 * (start_mem - end_mem) / start_mem\n",
    "            )\n",
    "        )\n",
    "    return df"
   ]
  },
  {
   "cell_type": "code",
   "execution_count": 3,
   "id": "a558e567",
   "metadata": {
    "execution": {
     "iopub.execute_input": "2021-10-10T07:04:44.954946Z",
     "iopub.status.busy": "2021-10-10T07:04:44.954352Z",
     "iopub.status.idle": "2021-10-10T07:06:53.475746Z",
     "shell.execute_reply": "2021-10-10T07:06:53.476793Z",
     "shell.execute_reply.started": "2021-10-10T06:44:39.688834Z"
    },
    "papermill": {
     "duration": 128.537403,
     "end_time": "2021-10-10T07:06:53.477003",
     "exception": false,
     "start_time": "2021-10-10T07:04:44.939600",
     "status": "completed"
    },
    "tags": []
   },
   "outputs": [
    {
     "name": "stdout",
     "output_type": "stream",
     "text": [
      "Mem. usage decreased to 501.63 Mb (73.2% reduction)\n",
      "Mem. usage decreased to 250.34 Mb (73.3% reduction)\n",
      "Mem. usage decreased to 2.86 Mb (50.0% reduction)\n",
      "CPU times: user 1min 3s, sys: 52.3 s, total: 1min 56s\n",
      "Wall time: 2min 8s\n"
     ]
    }
   ],
   "source": [
    "%%time\n",
    "train = dt.fread('../input/tabular-playground-series-oct-2021/train.csv').to_pandas().drop('id', axis=1)\n",
    "train = reduce_memory_usage(train)\n",
    "test = dt.fread('../input/tabular-playground-series-oct-2021/test.csv').to_pandas().drop('id', axis=1)\n",
    "test = reduce_memory_usage(test)\n",
    "ss = dt.fread('../input/tabular-playground-series-oct-2021/sample_submission.csv').to_pandas()\n",
    "ss = reduce_memory_usage(ss)"
   ]
  },
  {
   "cell_type": "code",
   "execution_count": 4,
   "id": "3df0dd66",
   "metadata": {
    "execution": {
     "iopub.execute_input": "2021-10-10T07:06:53.510699Z",
     "iopub.status.busy": "2021-10-10T07:06:53.509971Z",
     "iopub.status.idle": "2021-10-10T07:06:53.512552Z",
     "shell.execute_reply": "2021-10-10T07:06:53.512152Z",
     "shell.execute_reply.started": "2021-10-10T06:47:16.887861Z"
    },
    "papermill": {
     "duration": 0.021445,
     "end_time": "2021-10-10T07:06:53.512659",
     "exception": false,
     "start_time": "2021-10-10T07:06:53.491214",
     "status": "completed"
    },
    "tags": []
   },
   "outputs": [],
   "source": [
    "bool_cols_train = []\n",
    "for i, col in enumerate(train.columns):\n",
    "    if train[col].dtypes == bool:\n",
    "        bool_cols_train.append(i)"
   ]
  },
  {
   "cell_type": "code",
   "execution_count": 5,
   "id": "abcceff1",
   "metadata": {
    "execution": {
     "iopub.execute_input": "2021-10-10T07:06:53.541314Z",
     "iopub.status.busy": "2021-10-10T07:06:53.540684Z",
     "iopub.status.idle": "2021-10-10T07:06:53.543523Z",
     "shell.execute_reply": "2021-10-10T07:06:53.543897Z",
     "shell.execute_reply.started": "2021-10-10T06:47:16.896854Z"
    },
    "papermill": {
     "duration": 0.019203,
     "end_time": "2021-10-10T07:06:53.544040",
     "exception": false,
     "start_time": "2021-10-10T07:06:53.524837",
     "status": "completed"
    },
    "tags": []
   },
   "outputs": [],
   "source": [
    "bool_cols_test = []\n",
    "for i, col in enumerate(test.columns):\n",
    "    if train[col].dtypes == bool:\n",
    "        bool_cols_test.append(i)"
   ]
  },
  {
   "cell_type": "code",
   "execution_count": 6,
   "id": "daacc206",
   "metadata": {
    "execution": {
     "iopub.execute_input": "2021-10-10T07:06:53.573605Z",
     "iopub.status.busy": "2021-10-10T07:06:53.572695Z",
     "iopub.status.idle": "2021-10-10T07:06:54.525453Z",
     "shell.execute_reply": "2021-10-10T07:06:54.524991Z",
     "shell.execute_reply.started": "2021-10-10T06:47:16.915467Z"
    },
    "papermill": {
     "duration": 0.970909,
     "end_time": "2021-10-10T07:06:54.525580",
     "exception": false,
     "start_time": "2021-10-10T07:06:53.554671",
     "status": "completed"
    },
    "tags": []
   },
   "outputs": [],
   "source": [
    "train.iloc[:, bool_cols_train] = train.iloc[:, bool_cols_train].astype(int)\n",
    "test.iloc[:, bool_cols_test] = test.iloc[:, bool_cols_test].astype(int)"
   ]
  },
  {
   "cell_type": "code",
   "execution_count": 7,
   "id": "ced8a005",
   "metadata": {
    "execution": {
     "iopub.execute_input": "2021-10-10T07:06:54.553857Z",
     "iopub.status.busy": "2021-10-10T07:06:54.553288Z",
     "iopub.status.idle": "2021-10-10T07:06:54.556247Z",
     "shell.execute_reply": "2021-10-10T07:06:54.556644Z",
     "shell.execute_reply.started": "2021-10-10T06:47:18.044609Z"
    },
    "papermill": {
     "duration": 0.019955,
     "end_time": "2021-10-10T07:06:54.556773",
     "exception": false,
     "start_time": "2021-10-10T07:06:54.536818",
     "status": "completed"
    },
    "tags": []
   },
   "outputs": [
    {
     "name": "stdout",
     "output_type": "stream",
     "text": [
      "Train set shape (1000000, 286) \n",
      " Test set shape (500000, 285)\n"
     ]
    }
   ],
   "source": [
    "print(\"Train set shape\", train.shape, \"\\n\", \"Test set shape\", test.shape)"
   ]
  },
  {
   "cell_type": "code",
   "execution_count": 8,
   "id": "17b5d8b9",
   "metadata": {
    "execution": {
     "iopub.execute_input": "2021-10-10T07:06:54.584206Z",
     "iopub.status.busy": "2021-10-10T07:06:54.581483Z",
     "iopub.status.idle": "2021-10-10T07:06:54.607177Z",
     "shell.execute_reply": "2021-10-10T07:06:54.607573Z",
     "shell.execute_reply.started": "2021-10-10T06:47:18.055870Z"
    },
    "papermill": {
     "duration": 0.039438,
     "end_time": "2021-10-10T07:06:54.607692",
     "exception": false,
     "start_time": "2021-10-10T07:06:54.568254",
     "status": "completed"
    },
    "tags": []
   },
   "outputs": [
    {
     "data": {
      "text/html": [
       "<div>\n",
       "<style scoped>\n",
       "    .dataframe tbody tr th:only-of-type {\n",
       "        vertical-align: middle;\n",
       "    }\n",
       "\n",
       "    .dataframe tbody tr th {\n",
       "        vertical-align: top;\n",
       "    }\n",
       "\n",
       "    .dataframe thead th {\n",
       "        text-align: right;\n",
       "    }\n",
       "</style>\n",
       "<table border=\"1\" class=\"dataframe\">\n",
       "  <thead>\n",
       "    <tr style=\"text-align: right;\">\n",
       "      <th></th>\n",
       "      <th>f0</th>\n",
       "      <th>f1</th>\n",
       "      <th>f2</th>\n",
       "      <th>f3</th>\n",
       "      <th>f4</th>\n",
       "      <th>f5</th>\n",
       "      <th>f6</th>\n",
       "      <th>f7</th>\n",
       "      <th>f8</th>\n",
       "      <th>f9</th>\n",
       "      <th>...</th>\n",
       "      <th>f276</th>\n",
       "      <th>f277</th>\n",
       "      <th>f278</th>\n",
       "      <th>f279</th>\n",
       "      <th>f280</th>\n",
       "      <th>f281</th>\n",
       "      <th>f282</th>\n",
       "      <th>f283</th>\n",
       "      <th>f284</th>\n",
       "      <th>target</th>\n",
       "    </tr>\n",
       "  </thead>\n",
       "  <tbody>\n",
       "    <tr>\n",
       "      <th>0</th>\n",
       "      <td>0.205933</td>\n",
       "      <td>0.410889</td>\n",
       "      <td>0.176758</td>\n",
       "      <td>0.223633</td>\n",
       "      <td>0.423584</td>\n",
       "      <td>0.476074</td>\n",
       "      <td>0.413574</td>\n",
       "      <td>0.611816</td>\n",
       "      <td>0.534668</td>\n",
       "      <td>0.147339</td>\n",
       "      <td>...</td>\n",
       "      <td>0</td>\n",
       "      <td>1</td>\n",
       "      <td>0</td>\n",
       "      <td>0</td>\n",
       "      <td>0</td>\n",
       "      <td>0</td>\n",
       "      <td>0</td>\n",
       "      <td>0</td>\n",
       "      <td>0</td>\n",
       "      <td>1</td>\n",
       "    </tr>\n",
       "    <tr>\n",
       "      <th>1</th>\n",
       "      <td>0.181030</td>\n",
       "      <td>0.473145</td>\n",
       "      <td>0.011734</td>\n",
       "      <td>0.213623</td>\n",
       "      <td>0.619629</td>\n",
       "      <td>0.441650</td>\n",
       "      <td>0.230347</td>\n",
       "      <td>0.686035</td>\n",
       "      <td>0.281982</td>\n",
       "      <td>0.238525</td>\n",
       "      <td>...</td>\n",
       "      <td>0</td>\n",
       "      <td>1</td>\n",
       "      <td>0</td>\n",
       "      <td>0</td>\n",
       "      <td>0</td>\n",
       "      <td>0</td>\n",
       "      <td>0</td>\n",
       "      <td>0</td>\n",
       "      <td>0</td>\n",
       "      <td>1</td>\n",
       "    </tr>\n",
       "    <tr>\n",
       "      <th>2</th>\n",
       "      <td>0.182617</td>\n",
       "      <td>0.307373</td>\n",
       "      <td>0.325928</td>\n",
       "      <td>0.207153</td>\n",
       "      <td>0.605469</td>\n",
       "      <td>0.309814</td>\n",
       "      <td>0.493408</td>\n",
       "      <td>0.750977</td>\n",
       "      <td>0.536133</td>\n",
       "      <td>0.286865</td>\n",
       "      <td>...</td>\n",
       "      <td>0</td>\n",
       "      <td>0</td>\n",
       "      <td>0</td>\n",
       "      <td>1</td>\n",
       "      <td>1</td>\n",
       "      <td>0</td>\n",
       "      <td>0</td>\n",
       "      <td>0</td>\n",
       "      <td>0</td>\n",
       "      <td>1</td>\n",
       "    </tr>\n",
       "    <tr>\n",
       "      <th>3</th>\n",
       "      <td>0.180298</td>\n",
       "      <td>0.494629</td>\n",
       "      <td>0.008369</td>\n",
       "      <td>0.223633</td>\n",
       "      <td>0.760742</td>\n",
       "      <td>0.439209</td>\n",
       "      <td>0.432129</td>\n",
       "      <td>0.776367</td>\n",
       "      <td>0.483887</td>\n",
       "      <td>0.260986</td>\n",
       "      <td>...</td>\n",
       "      <td>0</td>\n",
       "      <td>0</td>\n",
       "      <td>0</td>\n",
       "      <td>0</td>\n",
       "      <td>1</td>\n",
       "      <td>0</td>\n",
       "      <td>0</td>\n",
       "      <td>0</td>\n",
       "      <td>0</td>\n",
       "      <td>1</td>\n",
       "    </tr>\n",
       "    <tr>\n",
       "      <th>4</th>\n",
       "      <td>0.177124</td>\n",
       "      <td>0.495605</td>\n",
       "      <td>0.014259</td>\n",
       "      <td>0.548828</td>\n",
       "      <td>0.625488</td>\n",
       "      <td>0.562500</td>\n",
       "      <td>0.117188</td>\n",
       "      <td>0.561035</td>\n",
       "      <td>0.077087</td>\n",
       "      <td>0.158325</td>\n",
       "      <td>...</td>\n",
       "      <td>0</td>\n",
       "      <td>1</td>\n",
       "      <td>1</td>\n",
       "      <td>0</td>\n",
       "      <td>1</td>\n",
       "      <td>0</td>\n",
       "      <td>0</td>\n",
       "      <td>1</td>\n",
       "      <td>0</td>\n",
       "      <td>1</td>\n",
       "    </tr>\n",
       "  </tbody>\n",
       "</table>\n",
       "<p>5 rows × 286 columns</p>\n",
       "</div>"
      ],
      "text/plain": [
       "         f0        f1        f2        f3        f4        f5        f6  \\\n",
       "0  0.205933  0.410889  0.176758  0.223633  0.423584  0.476074  0.413574   \n",
       "1  0.181030  0.473145  0.011734  0.213623  0.619629  0.441650  0.230347   \n",
       "2  0.182617  0.307373  0.325928  0.207153  0.605469  0.309814  0.493408   \n",
       "3  0.180298  0.494629  0.008369  0.223633  0.760742  0.439209  0.432129   \n",
       "4  0.177124  0.495605  0.014259  0.548828  0.625488  0.562500  0.117188   \n",
       "\n",
       "         f7        f8        f9  ...  f276  f277  f278  f279  f280  f281  \\\n",
       "0  0.611816  0.534668  0.147339  ...     0     1     0     0     0     0   \n",
       "1  0.686035  0.281982  0.238525  ...     0     1     0     0     0     0   \n",
       "2  0.750977  0.536133  0.286865  ...     0     0     0     1     1     0   \n",
       "3  0.776367  0.483887  0.260986  ...     0     0     0     0     1     0   \n",
       "4  0.561035  0.077087  0.158325  ...     0     1     1     0     1     0   \n",
       "\n",
       "   f282  f283  f284  target  \n",
       "0     0     0     0       1  \n",
       "1     0     0     0       1  \n",
       "2     0     0     0       1  \n",
       "3     0     0     0       1  \n",
       "4     0     1     0       1  \n",
       "\n",
       "[5 rows x 286 columns]"
      ]
     },
     "execution_count": 8,
     "metadata": {},
     "output_type": "execute_result"
    }
   ],
   "source": [
    "train.head()"
   ]
  },
  {
   "cell_type": "code",
   "execution_count": 9,
   "id": "9a747813",
   "metadata": {
    "execution": {
     "iopub.execute_input": "2021-10-10T07:06:54.635884Z",
     "iopub.status.busy": "2021-10-10T07:06:54.633756Z",
     "iopub.status.idle": "2021-10-10T07:06:55.818746Z",
     "shell.execute_reply": "2021-10-10T07:06:55.818226Z",
     "shell.execute_reply.started": "2021-10-10T06:47:18.096507Z"
    },
    "papermill": {
     "duration": 1.199341,
     "end_time": "2021-10-10T07:06:55.818868",
     "exception": false,
     "start_time": "2021-10-10T07:06:54.619527",
     "status": "completed"
    },
    "tags": []
   },
   "outputs": [],
   "source": [
    "X = train.drop('target', axis=1).copy()\n",
    "y = train['target'].copy()\n",
    "X_test = test.copy()\n",
    "\n",
    "del train\n",
    "del test"
   ]
  },
  {
   "cell_type": "code",
   "execution_count": 10,
   "id": "eb23c21b",
   "metadata": {
    "execution": {
     "iopub.execute_input": "2021-10-10T07:06:55.850259Z",
     "iopub.status.busy": "2021-10-10T07:06:55.849399Z",
     "iopub.status.idle": "2021-10-10T07:07:05.945934Z",
     "shell.execute_reply": "2021-10-10T07:07:05.945480Z",
     "shell.execute_reply.started": "2021-10-10T06:47:19.458943Z"
    },
    "papermill": {
     "duration": 10.114545,
     "end_time": "2021-10-10T07:07:05.946084",
     "exception": false,
     "start_time": "2021-10-10T07:06:55.831539",
     "status": "completed"
    },
    "tags": []
   },
   "outputs": [],
   "source": [
    "X['std'] = X.std(axis=1)\n",
    "X['min'] = X.min(axis=1)\n",
    "X['max'] = X.max(axis=1)\n",
    "\n",
    "X_test['std'] = X_test.std(axis=1)\n",
    "X_test['min'] = X_test.min(axis=1)\n",
    "X_test['max'] = X_test.max(axis=1)"
   ]
  },
  {
   "cell_type": "code",
   "execution_count": 11,
   "id": "16b73ce0",
   "metadata": {
    "execution": {
     "iopub.execute_input": "2021-10-10T07:07:05.975022Z",
     "iopub.status.busy": "2021-10-10T07:07:05.974262Z",
     "iopub.status.idle": "2021-10-10T07:07:05.976301Z",
     "shell.execute_reply": "2021-10-10T07:07:05.976677Z",
     "shell.execute_reply.started": "2021-10-10T06:47:28.883620Z"
    },
    "papermill": {
     "duration": 0.018669,
     "end_time": "2021-10-10T07:07:05.976804",
     "exception": false,
     "start_time": "2021-10-10T07:07:05.958135",
     "status": "completed"
    },
    "tags": []
   },
   "outputs": [],
   "source": [
    "params = {\n",
    "    'max_depth': 6,\n",
    "    'n_estimators': 9500,\n",
    "    'subsample': 0.7,\n",
    "    'colsample_bytree': 0.2,\n",
    "    'colsample_bylevel': 0.6000000000000001,\n",
    "    'min_child_weight': 56.41980735551558,\n",
    "    'reg_lambda': 75.56651890088857,\n",
    "    'reg_alpha': 0.11766857055687065,\n",
    "    'gamma': 0.6407823221122686,\n",
    "    'booster': 'gbtree',\n",
    "    'eval_metric': 'auc',\n",
    "    'tree_method': 'gpu_hist',\n",
    "    'predictor': 'gpu_predictor',\n",
    "    'use_label_encoder': False\n",
    "    }"
   ]
  },
  {
   "cell_type": "code",
   "execution_count": 12,
   "id": "1422ff73",
   "metadata": {
    "execution": {
     "iopub.execute_input": "2021-10-10T07:07:06.003532Z",
     "iopub.status.busy": "2021-10-10T07:07:06.002691Z",
     "iopub.status.idle": "2021-10-10T08:04:31.529615Z",
     "shell.execute_reply": "2021-10-10T08:04:31.530065Z"
    },
    "papermill": {
     "duration": 3445.541818,
     "end_time": "2021-10-10T08:04:31.530239",
     "exception": false,
     "start_time": "2021-10-10T07:07:05.988421",
     "status": "completed"
    },
    "tags": []
   },
   "outputs": [
    {
     "name": "stdout",
     "output_type": "stream",
     "text": [
      "Fold: 1 Score: 0.8569016103087252\n",
      "||||||||||||||||||||||||||||||||||||||||||||||||||||||||||||||||||||||||||||||||\n",
      "Fold: 2 Score: 0.8566033124780567\n",
      "||||||||||||||||||||||||||||||||||||||||||||||||||||||||||||||||||||||||||||||||\n",
      "Fold: 3 Score: 0.8575631816311975\n",
      "||||||||||||||||||||||||||||||||||||||||||||||||||||||||||||||||||||||||||||||||\n",
      "Fold: 4 Score: 0.8579628736072676\n",
      "||||||||||||||||||||||||||||||||||||||||||||||||||||||||||||||||||||||||||||||||\n",
      "Fold: 5 Score: 0.8570339949832857\n",
      "||||||||||||||||||||||||||||||||||||||||||||||||||||||||||||||||||||||||||||||||\n",
      "Overall Validation Score: 0.8572129946017066\n",
      "CPU times: user 57min 11s, sys: 43 s, total: 57min 54s\n",
      "Wall time: 57min 25s\n"
     ]
    }
   ],
   "source": [
    "%%time\n",
    "kf = StratifiedKFold(n_splits=5, shuffle=True, random_state=786)\n",
    "\n",
    "preds = []\n",
    "scores = []\n",
    "\n",
    "for fold, (idx_train, idx_valid) in enumerate(kf.split(X, y)):\n",
    "    X_train, y_train = X.iloc[idx_train], y.iloc[idx_train]\n",
    "    X_valid, y_valid = X.iloc[idx_valid], y.iloc[idx_valid]\n",
    "    \n",
    "    params['learning_rate']=0.007\n",
    "    model1 = XGBClassifier(**params)\n",
    "    \n",
    "    model1.fit(X_train,y_train,\n",
    "              eval_set=[(X_train, y_train),(X_valid,y_valid)],\n",
    "              early_stopping_rounds=200,\n",
    "              verbose=False)\n",
    "    \n",
    "    params['learning_rate']=0.01\n",
    "    model2 = XGBClassifier(**params)\n",
    "    \n",
    "    model2.fit(X_train,y_train,\n",
    "              eval_set=[(X_train, y_train),(X_valid,y_valid)],\n",
    "              early_stopping_rounds=200,\n",
    "              verbose=False,\n",
    "              xgb_model=model1)\n",
    "    \n",
    "    params['learning_rate']=0.05\n",
    "    model3 = XGBClassifier(**params)\n",
    "    \n",
    "    model3.fit(X_train,y_train,\n",
    "              eval_set=[(X_train, y_train),(X_valid,y_valid)],\n",
    "              early_stopping_rounds=200,\n",
    "              verbose=False,\n",
    "              xgb_model=model2)\n",
    "    \n",
    "    pred_valid = model3.predict_proba(X_valid)[:,1]\n",
    "    fpr, tpr, _ = roc_curve(y_valid, pred_valid)\n",
    "    score = auc(fpr, tpr)\n",
    "    scores.append(score)\n",
    "    \n",
    "    print(f\"Fold: {fold + 1} Score: {score}\")\n",
    "    print('||'*40)\n",
    "    \n",
    "    test_preds = model3.predict_proba(X_test)[:,1]\n",
    "    preds.append(test_preds)\n",
    "    \n",
    "print(f\"Overall Validation Score: {np.mean(scores)}\")"
   ]
  },
  {
   "cell_type": "code",
   "execution_count": 13,
   "id": "515b2713",
   "metadata": {
    "execution": {
     "iopub.execute_input": "2021-10-10T08:04:31.564135Z",
     "iopub.status.busy": "2021-10-10T08:04:31.562811Z",
     "iopub.status.idle": "2021-10-10T08:04:33.583345Z",
     "shell.execute_reply": "2021-10-10T08:04:33.584396Z"
    },
    "papermill": {
     "duration": 2.040643,
     "end_time": "2021-10-10T08:04:33.584619",
     "exception": false,
     "start_time": "2021-10-10T08:04:31.543976",
     "status": "completed"
    },
    "tags": []
   },
   "outputs": [
    {
     "data": {
      "text/html": [
       "<div>\n",
       "<style scoped>\n",
       "    .dataframe tbody tr th:only-of-type {\n",
       "        vertical-align: middle;\n",
       "    }\n",
       "\n",
       "    .dataframe tbody tr th {\n",
       "        vertical-align: top;\n",
       "    }\n",
       "\n",
       "    .dataframe thead th {\n",
       "        text-align: right;\n",
       "    }\n",
       "</style>\n",
       "<table border=\"1\" class=\"dataframe\">\n",
       "  <thead>\n",
       "    <tr style=\"text-align: right;\">\n",
       "      <th></th>\n",
       "      <th>id</th>\n",
       "      <th>target</th>\n",
       "    </tr>\n",
       "  </thead>\n",
       "  <tbody>\n",
       "    <tr>\n",
       "      <th>0</th>\n",
       "      <td>1000000</td>\n",
       "      <td>0.730554</td>\n",
       "    </tr>\n",
       "    <tr>\n",
       "      <th>1</th>\n",
       "      <td>1000001</td>\n",
       "      <td>0.241517</td>\n",
       "    </tr>\n",
       "    <tr>\n",
       "      <th>2</th>\n",
       "      <td>1000002</td>\n",
       "      <td>0.908382</td>\n",
       "    </tr>\n",
       "    <tr>\n",
       "      <th>3</th>\n",
       "      <td>1000003</td>\n",
       "      <td>0.843945</td>\n",
       "    </tr>\n",
       "    <tr>\n",
       "      <th>4</th>\n",
       "      <td>1000004</td>\n",
       "      <td>0.262354</td>\n",
       "    </tr>\n",
       "  </tbody>\n",
       "</table>\n",
       "</div>"
      ],
      "text/plain": [
       "        id    target\n",
       "0  1000000  0.730554\n",
       "1  1000001  0.241517\n",
       "2  1000002  0.908382\n",
       "3  1000003  0.843945\n",
       "4  1000004  0.262354"
      ]
     },
     "execution_count": 13,
     "metadata": {},
     "output_type": "execute_result"
    }
   ],
   "source": [
    "predictions = np.mean(np.column_stack(preds),axis=1)\n",
    "\n",
    "ss['target'] = predictions\n",
    "ss.to_csv('./xgb.csv', index=False)\n",
    "ss.head()"
   ]
  }
 ],
 "metadata": {
  "kernelspec": {
   "display_name": "Python 3",
   "language": "python",
   "name": "python3"
  },
  "language_info": {
   "codemirror_mode": {
    "name": "ipython",
    "version": 3
   },
   "file_extension": ".py",
   "mimetype": "text/x-python",
   "name": "python",
   "nbconvert_exporter": "python",
   "pygments_lexer": "ipython3",
   "version": "3.7.10"
  },
  "papermill": {
   "default_parameters": {},
   "duration": 3598.551099,
   "end_time": "2021-10-10T08:04:35.053989",
   "environment_variables": {},
   "exception": null,
   "input_path": "__notebook__.ipynb",
   "output_path": "__notebook__.ipynb",
   "parameters": {},
   "start_time": "2021-10-10T07:04:36.502890",
   "version": "2.3.3"
  }
 },
 "nbformat": 4,
 "nbformat_minor": 5
}
